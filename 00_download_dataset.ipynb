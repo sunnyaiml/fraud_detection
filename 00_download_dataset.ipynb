{
 "cells": [
  {
   "cell_type": "code",
   "execution_count": null,
   "id": "5a4b914a-e407-412f-a83b-123c2dee2839",
   "metadata": {
    "tags": []
   },
   "outputs": [],
   "source": [
    "!pip install -q kaggle"
   ]
  },
  {
   "cell_type": "code",
   "execution_count": null,
   "id": "d84d0686-471d-4b45-b472-ef97693995e6",
   "metadata": {
    "tags": []
   },
   "outputs": [],
   "source": [
    "import os\n",
    "import json\n",
    "\n",
    "api_token = {\"username\":\"xxxx\",\"key\":\"yyyy\"}\n",
    "\n",
    "# Specify the desired path for the Kaggle API key file\n",
    "kaggle_json_path = '/home/ec2-user/SageMaker/kaggle.json'\n",
    "\n",
    "# Ensure the directory exists\n",
    "# os.makedirs(os.path.dirname(kaggle_json_path), exist_ok=True)\n",
    "\n",
    "# Write the Kaggle API key to the specified location\n",
    "with open(kaggle_json_path, 'w') as file:\n",
    "    json.dump(api_token, file)"
   ]
  },
  {
   "cell_type": "code",
   "execution_count": null,
   "id": "8ca43cd5-f2a9-41fb-8291-691d8d35b468",
   "metadata": {
    "tags": []
   },
   "outputs": [],
   "source": [
    "!mkdir ~/.kaggle "
   ]
  },
  {
   "cell_type": "code",
   "execution_count": null,
   "id": "07b26d20-caee-43ee-9fc2-0473fc06ea39",
   "metadata": {
    "tags": []
   },
   "outputs": [],
   "source": [
    "!ls ~/.kaggle\n",
    "!cat ~/.kaggle/kaggle.json"
   ]
  },
  {
   "cell_type": "code",
   "execution_count": null,
   "id": "b567396f-e363-4fb6-a06f-7dafeec15335",
   "metadata": {
    "tags": []
   },
   "outputs": [],
   "source": [
    "!cp /home/ec2-user/SageMaker/kaggle.json ~/.kaggle/"
   ]
  },
  {
   "cell_type": "code",
   "execution_count": null,
   "id": "a572b387-7b68-4d61-bdb8-aee2c8fd26ff",
   "metadata": {
    "tags": []
   },
   "outputs": [],
   "source": [
    "!chmod 600 ~/.kaggle/kaggle.json"
   ]
  },
  {
   "cell_type": "code",
   "execution_count": null,
   "id": "6691a892-d01f-476b-8716-d5e63df8399c",
   "metadata": {
    "tags": []
   },
   "outputs": [],
   "source": [
    "!ls ~/.kaggle\n",
    "!cat ~/.kaggle/kaggle.json"
   ]
  },
  {
   "cell_type": "code",
   "execution_count": null,
   "id": "51346d9a-f674-4270-867b-b12a803e0590",
   "metadata": {
    "tags": []
   },
   "outputs": [],
   "source": [
    "!chmod 600 ~/.kaggle/kaggle.json"
   ]
  },
  {
   "cell_type": "code",
   "execution_count": null,
   "id": "90a9b803-603c-41ff-b896-ce9236499848",
   "metadata": {
    "tags": []
   },
   "outputs": [],
   "source": [
    "!kaggle competitions download -c ieee-fraud-detection"
   ]
  },
  {
   "cell_type": "code",
   "execution_count": null,
   "id": "e230ac05-2172-4565-a361-703ce0825eeb",
   "metadata": {
    "tags": []
   },
   "outputs": [],
   "source": [
    "import zipfile\n",
    "with zipfile.ZipFile('./ieee-fraud-detection.zip', 'r') as zip_ref:\n",
    "    zip_ref.extractall('./ieee-data')"
   ]
  }
 ],
 "metadata": {
  "kernelspec": {
   "display_name": "conda_pytorch_p310",
   "language": "python",
   "name": "conda_pytorch_p310"
  },
  "language_info": {
   "codemirror_mode": {
    "name": "ipython",
    "version": 3
   },
   "file_extension": ".py",
   "mimetype": "text/x-python",
   "name": "python",
   "nbconvert_exporter": "python",
   "pygments_lexer": "ipython3",
   "version": "3.10.13"
  }
 },
 "nbformat": 4,
 "nbformat_minor": 5
}
